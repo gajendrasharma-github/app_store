{
 "cells": [
  {
   "cell_type": "code",
   "execution_count": 1,
   "id": "16fb8477",
   "metadata": {},
   "outputs": [],
   "source": [
    "import numpy as np\n",
    "import pandas as pd"
   ]
  },
  {
   "cell_type": "code",
   "execution_count": 2,
   "id": "f0660740",
   "metadata": {
    "scrolled": true
   },
   "outputs": [
    {
     "data": {
      "text/html": [
       "<div>\n",
       "<style scoped>\n",
       "    .dataframe tbody tr th:only-of-type {\n",
       "        vertical-align: middle;\n",
       "    }\n",
       "\n",
       "    .dataframe tbody tr th {\n",
       "        vertical-align: top;\n",
       "    }\n",
       "\n",
       "    .dataframe thead th {\n",
       "        text-align: right;\n",
       "    }\n",
       "</style>\n",
       "<table border=\"1\" class=\"dataframe\">\n",
       "  <thead>\n",
       "    <tr style=\"text-align: right;\">\n",
       "      <th></th>\n",
       "      <th>Category</th>\n",
       "      <th>Rating</th>\n",
       "      <th>Rating Count</th>\n",
       "      <th>Installs</th>\n",
       "      <th>Minimum Installs</th>\n",
       "      <th>Maximum Installs</th>\n",
       "      <th>Price</th>\n",
       "      <th>Size</th>\n",
       "      <th>Minimum Android</th>\n",
       "      <th>Released</th>\n",
       "      <th>Last Updated</th>\n",
       "      <th>Content Rating</th>\n",
       "      <th>Ad Supported</th>\n",
       "      <th>In App Purchases</th>\n",
       "      <th>Editors Choice</th>\n",
       "      <th>App Name</th>\n",
       "      <th>Free</th>\n",
       "      <th>Developer Id</th>\n",
       "      <th>Average_Installs</th>\n",
       "    </tr>\n",
       "  </thead>\n",
       "  <tbody>\n",
       "    <tr>\n",
       "      <th>0</th>\n",
       "      <td>Adventure</td>\n",
       "      <td>0.0</td>\n",
       "      <td>0.0</td>\n",
       "      <td>10+</td>\n",
       "      <td>10.0</td>\n",
       "      <td>15</td>\n",
       "      <td>0.0</td>\n",
       "      <td>10.0</td>\n",
       "      <td>7.1</td>\n",
       "      <td>2020-02-26</td>\n",
       "      <td>2020-02-26</td>\n",
       "      <td>Everyone</td>\n",
       "      <td>False</td>\n",
       "      <td>False</td>\n",
       "      <td>False</td>\n",
       "      <td>Gakondo</td>\n",
       "      <td>True</td>\n",
       "      <td>Jean Confident Irénée NIYIZIBYOSE</td>\n",
       "      <td>12.5</td>\n",
       "    </tr>\n",
       "    <tr>\n",
       "      <th>1</th>\n",
       "      <td>Tools</td>\n",
       "      <td>4.4</td>\n",
       "      <td>64.0</td>\n",
       "      <td>5,000+</td>\n",
       "      <td>5000.0</td>\n",
       "      <td>7662</td>\n",
       "      <td>0.0</td>\n",
       "      <td>2.9</td>\n",
       "      <td>5.0</td>\n",
       "      <td>2020-05-21</td>\n",
       "      <td>2021-05-06</td>\n",
       "      <td>Everyone</td>\n",
       "      <td>True</td>\n",
       "      <td>False</td>\n",
       "      <td>False</td>\n",
       "      <td>Ampere Battery Info</td>\n",
       "      <td>True</td>\n",
       "      <td>Webserveis</td>\n",
       "      <td>6331.0</td>\n",
       "    </tr>\n",
       "    <tr>\n",
       "      <th>2</th>\n",
       "      <td>Productivity</td>\n",
       "      <td>0.0</td>\n",
       "      <td>0.0</td>\n",
       "      <td>50+</td>\n",
       "      <td>50.0</td>\n",
       "      <td>58</td>\n",
       "      <td>0.0</td>\n",
       "      <td>3.7</td>\n",
       "      <td>4.0</td>\n",
       "      <td>2019-08-09</td>\n",
       "      <td>2019-08-19</td>\n",
       "      <td>Everyone</td>\n",
       "      <td>False</td>\n",
       "      <td>False</td>\n",
       "      <td>False</td>\n",
       "      <td>Vibook</td>\n",
       "      <td>True</td>\n",
       "      <td>Cabin Crew</td>\n",
       "      <td>54.0</td>\n",
       "    </tr>\n",
       "    <tr>\n",
       "      <th>3</th>\n",
       "      <td>Communication</td>\n",
       "      <td>5.0</td>\n",
       "      <td>5.0</td>\n",
       "      <td>10+</td>\n",
       "      <td>10.0</td>\n",
       "      <td>19</td>\n",
       "      <td>0.0</td>\n",
       "      <td>1.8</td>\n",
       "      <td>4.0</td>\n",
       "      <td>2018-09-10</td>\n",
       "      <td>2018-10-13</td>\n",
       "      <td>Everyone</td>\n",
       "      <td>True</td>\n",
       "      <td>False</td>\n",
       "      <td>False</td>\n",
       "      <td>Smart City Trichy Public Service Vehicles 17UC...</td>\n",
       "      <td>True</td>\n",
       "      <td>Climate Smart Tech2</td>\n",
       "      <td>14.5</td>\n",
       "    </tr>\n",
       "    <tr>\n",
       "      <th>4</th>\n",
       "      <td>Tools</td>\n",
       "      <td>0.0</td>\n",
       "      <td>0.0</td>\n",
       "      <td>100+</td>\n",
       "      <td>100.0</td>\n",
       "      <td>478</td>\n",
       "      <td>0.0</td>\n",
       "      <td>6.2</td>\n",
       "      <td>4.1</td>\n",
       "      <td>2020-02-21</td>\n",
       "      <td>2020-02-21</td>\n",
       "      <td>Everyone</td>\n",
       "      <td>False</td>\n",
       "      <td>False</td>\n",
       "      <td>False</td>\n",
       "      <td>GROW.me</td>\n",
       "      <td>True</td>\n",
       "      <td>Rafal Milek-Horodyski</td>\n",
       "      <td>289.0</td>\n",
       "    </tr>\n",
       "  </tbody>\n",
       "</table>\n",
       "</div>"
      ],
      "text/plain": [
       "        Category  Rating  Rating Count Installs  Minimum Installs  \\\n",
       "0      Adventure     0.0           0.0      10+              10.0   \n",
       "1          Tools     4.4          64.0   5,000+            5000.0   \n",
       "2   Productivity     0.0           0.0      50+              50.0   \n",
       "3  Communication     5.0           5.0      10+              10.0   \n",
       "4          Tools     0.0           0.0     100+             100.0   \n",
       "\n",
       "   Maximum Installs  Price  Size  Minimum Android    Released Last Updated  \\\n",
       "0                15    0.0  10.0              7.1  2020-02-26   2020-02-26   \n",
       "1              7662    0.0   2.9              5.0  2020-05-21   2021-05-06   \n",
       "2                58    0.0   3.7              4.0  2019-08-09   2019-08-19   \n",
       "3                19    0.0   1.8              4.0  2018-09-10   2018-10-13   \n",
       "4               478    0.0   6.2              4.1  2020-02-21   2020-02-21   \n",
       "\n",
       "  Content Rating  Ad Supported  In App Purchases  Editors Choice  \\\n",
       "0       Everyone         False             False           False   \n",
       "1       Everyone          True             False           False   \n",
       "2       Everyone         False             False           False   \n",
       "3       Everyone          True             False           False   \n",
       "4       Everyone         False             False           False   \n",
       "\n",
       "                                            App Name  Free  \\\n",
       "0                                            Gakondo  True   \n",
       "1                                Ampere Battery Info  True   \n",
       "2                                             Vibook  True   \n",
       "3  Smart City Trichy Public Service Vehicles 17UC...  True   \n",
       "4                                            GROW.me  True   \n",
       "\n",
       "                        Developer Id  Average_Installs  \n",
       "0  Jean Confident Irénée NIYIZIBYOSE              12.5  \n",
       "1                         Webserveis            6331.0  \n",
       "2                         Cabin Crew              54.0  \n",
       "3                Climate Smart Tech2              14.5  \n",
       "4              Rafal Milek-Horodyski             289.0  "
      ]
     },
     "execution_count": 2,
     "metadata": {},
     "output_type": "execute_result"
    }
   ],
   "source": [
    "data=pd.read_csv('New_clean_data.csv')\n",
    "data.head()"
   ]
  },
  {
   "cell_type": "markdown",
   "id": "b17527c4",
   "metadata": {},
   "source": [
    "# Overall Analysis"
   ]
  },
  {
   "cell_type": "markdown",
   "id": "7508781b",
   "metadata": {},
   "source": [
    "**1. Top 5 Apps by Installations**"
   ]
  },
  {
   "cell_type": "code",
   "execution_count": 3,
   "id": "e3d65f33",
   "metadata": {},
   "outputs": [
    {
     "data": {
      "text/html": [
       "<div>\n",
       "<style scoped>\n",
       "    .dataframe tbody tr th:only-of-type {\n",
       "        vertical-align: middle;\n",
       "    }\n",
       "\n",
       "    .dataframe tbody tr th {\n",
       "        vertical-align: top;\n",
       "    }\n",
       "\n",
       "    .dataframe thead th {\n",
       "        text-align: right;\n",
       "    }\n",
       "</style>\n",
       "<table border=\"1\" class=\"dataframe\">\n",
       "  <thead>\n",
       "    <tr style=\"text-align: right;\">\n",
       "      <th></th>\n",
       "      <th>App Name</th>\n",
       "      <th>Maximum Installs</th>\n",
       "    </tr>\n",
       "  </thead>\n",
       "  <tbody>\n",
       "    <tr>\n",
       "      <th>2155096</th>\n",
       "      <td>Google Play services</td>\n",
       "      <td>12057627016</td>\n",
       "    </tr>\n",
       "    <tr>\n",
       "      <th>881403</th>\n",
       "      <td>YouTube</td>\n",
       "      <td>9766230924</td>\n",
       "    </tr>\n",
       "    <tr>\n",
       "      <th>1773294</th>\n",
       "      <td>Google</td>\n",
       "      <td>9154248491</td>\n",
       "    </tr>\n",
       "    <tr>\n",
       "      <th>1733042</th>\n",
       "      <td>Google Maps - Navigate &amp; Explore</td>\n",
       "      <td>9141671889</td>\n",
       "    </tr>\n",
       "    <tr>\n",
       "      <th>1060335</th>\n",
       "      <td>Google Text-to-Speech</td>\n",
       "      <td>9034404884</td>\n",
       "    </tr>\n",
       "  </tbody>\n",
       "</table>\n",
       "</div>"
      ],
      "text/plain": [
       "                                 App Name  Maximum Installs\n",
       "2155096              Google Play services       12057627016\n",
       "881403                            YouTube        9766230924\n",
       "1773294                            Google        9154248491\n",
       "1733042  Google Maps - Navigate & Explore        9141671889\n",
       "1060335             Google Text-to-Speech        9034404884"
      ]
     },
     "execution_count": 3,
     "metadata": {},
     "output_type": "execute_result"
    }
   ],
   "source": [
    "data[['App Name', 'Maximum Installs']].sort_values(by='Maximum Installs', ascending=False).head()"
   ]
  },
  {
   "cell_type": "markdown",
   "id": "f9665d40",
   "metadata": {},
   "source": [
    "**2. Top 5 Apps with Highest Ratings and Rating Count**"
   ]
  },
  {
   "cell_type": "code",
   "execution_count": 4,
   "id": "3de0c19c",
   "metadata": {
    "scrolled": false
   },
   "outputs": [
    {
     "data": {
      "text/html": [
       "<div>\n",
       "<style scoped>\n",
       "    .dataframe tbody tr th:only-of-type {\n",
       "        vertical-align: middle;\n",
       "    }\n",
       "\n",
       "    .dataframe tbody tr th {\n",
       "        vertical-align: top;\n",
       "    }\n",
       "\n",
       "    .dataframe thead th {\n",
       "        text-align: right;\n",
       "    }\n",
       "</style>\n",
       "<table border=\"1\" class=\"dataframe\">\n",
       "  <thead>\n",
       "    <tr style=\"text-align: right;\">\n",
       "      <th></th>\n",
       "      <th>App Name</th>\n",
       "      <th>Rating</th>\n",
       "      <th>Rating Count</th>\n",
       "    </tr>\n",
       "  </thead>\n",
       "  <tbody>\n",
       "    <tr>\n",
       "      <th>845049</th>\n",
       "      <td>STUDiLMU: Your One-stop Solution Learning Partner</td>\n",
       "      <td>5.0</td>\n",
       "      <td>42908.0</td>\n",
       "    </tr>\n",
       "    <tr>\n",
       "      <th>391472</th>\n",
       "      <td>Crazy Fall</td>\n",
       "      <td>5.0</td>\n",
       "      <td>32370.0</td>\n",
       "    </tr>\n",
       "    <tr>\n",
       "      <th>771566</th>\n",
       "      <td>Calculator Plus</td>\n",
       "      <td>5.0</td>\n",
       "      <td>23856.0</td>\n",
       "    </tr>\n",
       "    <tr>\n",
       "      <th>252450</th>\n",
       "      <td>白沙屯媽祖 GPS 即時定位</td>\n",
       "      <td>5.0</td>\n",
       "      <td>18839.0</td>\n",
       "    </tr>\n",
       "    <tr>\n",
       "      <th>609994</th>\n",
       "      <td>Жәннат Фирдаус - Намаз, Құран оқуды үйрену</td>\n",
       "      <td>5.0</td>\n",
       "      <td>18031.0</td>\n",
       "    </tr>\n",
       "  </tbody>\n",
       "</table>\n",
       "</div>"
      ],
      "text/plain": [
       "                                                 App Name  Rating  \\\n",
       "845049  STUDiLMU: Your One-stop Solution Learning Partner     5.0   \n",
       "391472                                         Crazy Fall     5.0   \n",
       "771566                                    Calculator Plus     5.0   \n",
       "252450                                     白沙屯媽祖 GPS 即時定位     5.0   \n",
       "609994         Жәннат Фирдаус - Намаз, Құран оқуды үйрену     5.0   \n",
       "\n",
       "        Rating Count  \n",
       "845049       42908.0  \n",
       "391472       32370.0  \n",
       "771566       23856.0  \n",
       "252450       18839.0  \n",
       "609994       18031.0  "
      ]
     },
     "execution_count": 4,
     "metadata": {},
     "output_type": "execute_result"
    }
   ],
   "source": [
    "data[data['Rating']==5][['App Name', 'Rating', 'Rating Count']].sort_values(by='Rating Count', ascending=False).head()"
   ]
  },
  {
   "cell_type": "markdown",
   "id": "0628c36b",
   "metadata": {},
   "source": [
    "**3. AD Supported Percentage**"
   ]
  },
  {
   "cell_type": "code",
   "execution_count": 7,
   "id": "0e42d29d",
   "metadata": {},
   "outputs": [
    {
     "data": {
      "text/plain": [
       "Ad Supported\n",
       "False    50.246353\n",
       "True     49.753647\n",
       "Name: proportion, dtype: float64"
      ]
     },
     "execution_count": 7,
     "metadata": {},
     "output_type": "execute_result"
    }
   ],
   "source": [
    "data['Ad Supported'].value_counts(normalize=True)*100"
   ]
  },
  {
   "cell_type": "markdown",
   "id": "470cac18",
   "metadata": {},
   "source": [
    "**4. Signifcance of ADs in Editors Choice**"
   ]
  },
  {
   "cell_type": "code",
   "execution_count": 6,
   "id": "ad2750a6",
   "metadata": {
    "scrolled": false
   },
   "outputs": [
    {
     "data": {
      "text/html": [
       "<div>\n",
       "<style scoped>\n",
       "    .dataframe tbody tr th:only-of-type {\n",
       "        vertical-align: middle;\n",
       "    }\n",
       "\n",
       "    .dataframe tbody tr th {\n",
       "        vertical-align: top;\n",
       "    }\n",
       "\n",
       "    .dataframe thead th {\n",
       "        text-align: right;\n",
       "    }\n",
       "</style>\n",
       "<table border=\"1\" class=\"dataframe\">\n",
       "  <thead>\n",
       "    <tr style=\"text-align: right;\">\n",
       "      <th>Editors Choice</th>\n",
       "      <th>False</th>\n",
       "      <th>True</th>\n",
       "    </tr>\n",
       "    <tr>\n",
       "      <th>Ad Supported</th>\n",
       "      <th></th>\n",
       "      <th></th>\n",
       "    </tr>\n",
       "  </thead>\n",
       "  <tbody>\n",
       "    <tr>\n",
       "      <th>False</th>\n",
       "      <td>1161868</td>\n",
       "      <td>302</td>\n",
       "    </tr>\n",
       "    <tr>\n",
       "      <th>True</th>\n",
       "      <td>1150223</td>\n",
       "      <td>551</td>\n",
       "    </tr>\n",
       "  </tbody>\n",
       "</table>\n",
       "</div>"
      ],
      "text/plain": [
       "Editors Choice    False  True \n",
       "Ad Supported                  \n",
       "False           1161868    302\n",
       "True            1150223    551"
      ]
     },
     "execution_count": 6,
     "metadata": {},
     "output_type": "execute_result"
    }
   ],
   "source": [
    "pd.crosstab(index=data['Ad Supported'], columns=data['Editors Choice'])"
   ]
  },
  {
   "cell_type": "markdown",
   "id": "9788c316",
   "metadata": {},
   "source": [
    "**5. Category Wise App Distribution**"
   ]
  },
  {
   "cell_type": "code",
   "execution_count": 5,
   "id": "8d697dbd",
   "metadata": {
    "scrolled": false
   },
   "outputs": [
    {
     "data": {
      "text/plain": [
       "Category\n",
       "Education                  10.423512\n",
       "Music & Audio               6.697352\n",
       "Tools                       6.225313\n",
       "Business                    6.215931\n",
       "Entertainment               5.978355\n",
       "Lifestyle                   5.116034\n",
       "Books & Reference           5.046728\n",
       "Personalization             3.856989\n",
       "Health & Fitness            3.610550\n",
       "Productivity                3.445738\n",
       "Shopping                    3.253689\n",
       "Food & Drink                3.196230\n",
       "Travel & Local              2.909193\n",
       "Finance                     2.830419\n",
       "Arcade                      2.325694\n",
       "Puzzle                      2.212246\n",
       "Casual                      2.196897\n",
       "Communication               2.082497\n",
       "Sports                      2.052925\n",
       "Social                      1.934072\n",
       "News & Magazines            1.850758\n",
       "Photography                 1.537089\n",
       "Medical                     1.386328\n",
       "Action                      1.191339\n",
       "Maps & Navigation           1.155324\n",
       "Simulation                  1.006596\n",
       "Adventure                   1.003180\n",
       "Educational                 0.921250\n",
       "Art & Design                0.801533\n",
       "Auto & Vehicles             0.790335\n",
       "House & Home                0.621243\n",
       "Video Players & Editors     0.605938\n",
       "Events                      0.555180\n",
       "Trivia                      0.509956\n",
       "Beauty                      0.508962\n",
       "Board                       0.457772\n",
       "Racing                      0.448000\n",
       "Role Playing                0.433819\n",
       "Word                        0.373118\n",
       "Strategy                    0.368621\n",
       "Card                        0.353619\n",
       "Weather                     0.313280\n",
       "Dating                      0.282065\n",
       "Libraries & Demo            0.224735\n",
       "Casino                      0.219461\n",
       "Music                       0.181673\n",
       "Parenting                   0.164725\n",
       "Comics                      0.123738\n",
       "Name: proportion, dtype: float64"
      ]
     },
     "execution_count": 5,
     "metadata": {},
     "output_type": "execute_result"
    }
   ],
   "source": [
    "data['Category'].value_counts(normalize=True)*100"
   ]
  },
  {
   "cell_type": "markdown",
   "id": "65c256bf",
   "metadata": {},
   "source": [
    "# Free vs Paid Apps"
   ]
  },
  {
   "cell_type": "markdown",
   "id": "d84d7754",
   "metadata": {},
   "source": [
    "**1.Distribution of Free and Paid Apps**"
   ]
  },
  {
   "cell_type": "code",
   "execution_count": 8,
   "id": "c8d0f474",
   "metadata": {},
   "outputs": [
    {
     "data": {
      "text/plain": [
       "Free\n",
       "True     98.051488\n",
       "False     1.948512\n",
       "Name: proportion, dtype: float64"
      ]
     },
     "execution_count": 8,
     "metadata": {},
     "output_type": "execute_result"
    }
   ],
   "source": [
    "data['Free'].value_counts(normalize=True)*100"
   ]
  },
  {
   "cell_type": "markdown",
   "id": "2223f6fe",
   "metadata": {},
   "source": [
    "**2. Average Rating**"
   ]
  },
  {
   "cell_type": "code",
   "execution_count": 9,
   "id": "3c595dfe",
   "metadata": {},
   "outputs": [
    {
     "name": "stdout",
     "output_type": "stream",
     "text": [
      "2.1885914176965597\n",
      "2.3589331676577614\n"
     ]
    }
   ],
   "source": [
    "print(data[data['Free']==True]['Rating'].mean())\n",
    "print(data[data['Free']==False]['Rating'].mean())"
   ]
  },
  {
   "cell_type": "markdown",
   "id": "a9fa757e",
   "metadata": {},
   "source": [
    "**3. Average Installs**"
   ]
  },
  {
   "cell_type": "code",
   "execution_count": 10,
   "id": "fb4ed499",
   "metadata": {},
   "outputs": [
    {
     "name": "stdout",
     "output_type": "stream",
     "text": [
      "326228.01476006623\n",
      "16950.962745185054\n"
     ]
    }
   ],
   "source": [
    "print(data[data['Free']==True]['Maximum Installs'].mean())\n",
    "print(data[data['Free']==False]['Maximum Installs'].mean())"
   ]
  },
  {
   "cell_type": "markdown",
   "id": "1ff9df22",
   "metadata": {},
   "source": [
    "**4. Ad Support in Free and Paid Apps**"
   ]
  },
  {
   "cell_type": "code",
   "execution_count": 11,
   "id": "c524cf12",
   "metadata": {},
   "outputs": [
    {
     "data": {
      "text/html": [
       "<div>\n",
       "<style scoped>\n",
       "    .dataframe tbody tr th:only-of-type {\n",
       "        vertical-align: middle;\n",
       "    }\n",
       "\n",
       "    .dataframe tbody tr th {\n",
       "        vertical-align: top;\n",
       "    }\n",
       "\n",
       "    .dataframe thead th {\n",
       "        text-align: right;\n",
       "    }\n",
       "</style>\n",
       "<table border=\"1\" class=\"dataframe\">\n",
       "  <thead>\n",
       "    <tr style=\"text-align: right;\">\n",
       "      <th>Ad Supported</th>\n",
       "      <th>False</th>\n",
       "      <th>True</th>\n",
       "    </tr>\n",
       "    <tr>\n",
       "      <th>Free</th>\n",
       "      <th></th>\n",
       "      <th></th>\n",
       "    </tr>\n",
       "  </thead>\n",
       "  <tbody>\n",
       "    <tr>\n",
       "      <th>False</th>\n",
       "      <td>42405</td>\n",
       "      <td>2663</td>\n",
       "    </tr>\n",
       "    <tr>\n",
       "      <th>True</th>\n",
       "      <td>1119765</td>\n",
       "      <td>1148111</td>\n",
       "    </tr>\n",
       "  </tbody>\n",
       "</table>\n",
       "</div>"
      ],
      "text/plain": [
       "Ad Supported    False    True \n",
       "Free                          \n",
       "False           42405     2663\n",
       "True          1119765  1148111"
      ]
     },
     "execution_count": 11,
     "metadata": {},
     "output_type": "execute_result"
    }
   ],
   "source": [
    "pd.crosstab(index=data['Free'], columns=data['Ad Supported'])"
   ]
  },
  {
   "cell_type": "markdown",
   "id": "8b11413a",
   "metadata": {},
   "source": [
    "**5. Editors Choice in Free and Paid Apps**"
   ]
  },
  {
   "cell_type": "code",
   "execution_count": 12,
   "id": "dd0f65e8",
   "metadata": {},
   "outputs": [
    {
     "data": {
      "text/html": [
       "<div>\n",
       "<style scoped>\n",
       "    .dataframe tbody tr th:only-of-type {\n",
       "        vertical-align: middle;\n",
       "    }\n",
       "\n",
       "    .dataframe tbody tr th {\n",
       "        vertical-align: top;\n",
       "    }\n",
       "\n",
       "    .dataframe thead th {\n",
       "        text-align: right;\n",
       "    }\n",
       "</style>\n",
       "<table border=\"1\" class=\"dataframe\">\n",
       "  <thead>\n",
       "    <tr style=\"text-align: right;\">\n",
       "      <th>Editors Choice</th>\n",
       "      <th>False</th>\n",
       "      <th>True</th>\n",
       "    </tr>\n",
       "    <tr>\n",
       "      <th>Free</th>\n",
       "      <th></th>\n",
       "      <th></th>\n",
       "    </tr>\n",
       "  </thead>\n",
       "  <tbody>\n",
       "    <tr>\n",
       "      <th>False</th>\n",
       "      <td>45032</td>\n",
       "      <td>36</td>\n",
       "    </tr>\n",
       "    <tr>\n",
       "      <th>True</th>\n",
       "      <td>2267059</td>\n",
       "      <td>817</td>\n",
       "    </tr>\n",
       "  </tbody>\n",
       "</table>\n",
       "</div>"
      ],
      "text/plain": [
       "Editors Choice    False  True \n",
       "Free                          \n",
       "False             45032     36\n",
       "True            2267059    817"
      ]
     },
     "execution_count": 12,
     "metadata": {},
     "output_type": "execute_result"
    }
   ],
   "source": [
    "pd.crosstab(index=data['Free'], columns=data['Editors Choice'])"
   ]
  },
  {
   "cell_type": "markdown",
   "id": "71fa9204",
   "metadata": {},
   "source": [
    "# Developer Analysis"
   ]
  },
  {
   "cell_type": "markdown",
   "id": "bb7f4030",
   "metadata": {},
   "source": [
    "**1. Top 5 Developers with Maximum Apps**"
   ]
  },
  {
   "cell_type": "code",
   "execution_count": 14,
   "id": "2394df1c",
   "metadata": {
    "scrolled": true
   },
   "outputs": [
    {
     "data": {
      "text/plain": [
       "Developer Id\n",
       "Subsplash Inc    5422\n",
       "TRAINERIZE       5153\n",
       "ChowNow          4865\n",
       "OrderYOYO        2884\n",
       "Phorest          2821\n",
       "Name: count, dtype: int64"
      ]
     },
     "execution_count": 14,
     "metadata": {},
     "output_type": "execute_result"
    }
   ],
   "source": [
    "data['Developer Id'].value_counts().head()"
   ]
  },
  {
   "cell_type": "markdown",
   "id": "c3f002c4",
   "metadata": {},
   "source": [
    "**2. Top 5 Developers with Average Maximum Installations**"
   ]
  },
  {
   "cell_type": "code",
   "execution_count": 16,
   "id": "62cfab0c",
   "metadata": {
    "scrolled": true
   },
   "outputs": [
    {
     "data": {
      "text/plain": [
       "Developer Id\n",
       "WhatsApp LLC            2.323271e+09\n",
       "Snap Inc                1.621265e+09\n",
       "Flipboard               1.097368e+09\n",
       "Viber Media S.à r.l.    9.794216e+08\n",
       "Google LLC              9.431791e+08\n",
       "Name: Maximum Installs, dtype: float64"
      ]
     },
     "execution_count": 16,
     "metadata": {},
     "output_type": "execute_result"
    }
   ],
   "source": [
    "data.groupby('Developer Id')['Maximum Installs'].mean().sort_values(ascending=False).head()"
   ]
  },
  {
   "cell_type": "markdown",
   "id": "02ccdcdb",
   "metadata": {},
   "source": [
    "**3. Top 5 Developers by Average Rating**"
   ]
  },
  {
   "cell_type": "code",
   "execution_count": 25,
   "id": "1354e0f7",
   "metadata": {
    "scrolled": true
   },
   "outputs": [
    {
     "data": {
      "text/html": [
       "<div>\n",
       "<style scoped>\n",
       "    .dataframe tbody tr th:only-of-type {\n",
       "        vertical-align: middle;\n",
       "    }\n",
       "\n",
       "    .dataframe tbody tr th {\n",
       "        vertical-align: top;\n",
       "    }\n",
       "\n",
       "    .dataframe thead th {\n",
       "        text-align: right;\n",
       "    }\n",
       "</style>\n",
       "<table border=\"1\" class=\"dataframe\">\n",
       "  <thead>\n",
       "    <tr style=\"text-align: right;\">\n",
       "      <th></th>\n",
       "      <th>Rating</th>\n",
       "      <th>Rating Count</th>\n",
       "    </tr>\n",
       "    <tr>\n",
       "      <th>Developer Id</th>\n",
       "      <th></th>\n",
       "      <th></th>\n",
       "    </tr>\n",
       "  </thead>\n",
       "  <tbody>\n",
       "    <tr>\n",
       "      <th>Roblox Corporation</th>\n",
       "      <td>4.400000</td>\n",
       "      <td>2.214803e+07</td>\n",
       "    </tr>\n",
       "    <tr>\n",
       "      <th>GARENA INTERNATIONAL I PRIVATE LIMITED</th>\n",
       "      <td>4.300000</td>\n",
       "      <td>3.027602e+07</td>\n",
       "    </tr>\n",
       "    <tr>\n",
       "      <th>Snap Inc</th>\n",
       "      <td>4.300000</td>\n",
       "      <td>2.634006e+07</td>\n",
       "    </tr>\n",
       "    <tr>\n",
       "      <th>WhatsApp LLC</th>\n",
       "      <td>4.000000</td>\n",
       "      <td>4.730958e+07</td>\n",
       "    </tr>\n",
       "    <tr>\n",
       "      <th>Instagram</th>\n",
       "      <td>3.933333</td>\n",
       "      <td>2.046797e+07</td>\n",
       "    </tr>\n",
       "  </tbody>\n",
       "</table>\n",
       "</div>"
      ],
      "text/plain": [
       "                                          Rating  Rating Count\n",
       "Developer Id                                                  \n",
       "Roblox Corporation                      4.400000  2.214803e+07\n",
       "GARENA INTERNATIONAL I PRIVATE LIMITED  4.300000  3.027602e+07\n",
       "Snap Inc                                4.300000  2.634006e+07\n",
       "WhatsApp LLC                            4.000000  4.730958e+07\n",
       "Instagram                               3.933333  2.046797e+07"
      ]
     },
     "execution_count": 25,
     "metadata": {},
     "output_type": "execute_result"
    }
   ],
   "source": [
    "data.groupby('Developer Id')[['Rating', 'Rating Count']].mean().sort_values(by='Rating Count', ascending=False).head().sort_values(by='Rating', ascending=False)"
   ]
  },
  {
   "cell_type": "markdown",
   "id": "bc5e0ec0",
   "metadata": {},
   "source": [
    "**4. Top 5 Developers with Highest Editors Choice Badge**"
   ]
  },
  {
   "cell_type": "code",
   "execution_count": 29,
   "id": "6313d63d",
   "metadata": {},
   "outputs": [
    {
     "data": {
      "text/plain": [
       "Developer Id\n",
       "ELECTRONIC ARTS                    10\n",
       "Netmarble                           8\n",
       "Gameloft SE                         7\n",
       "NetEase Games                       6\n",
       "BANDAI NAMCO Entertainment Inc.     6\n",
       "Name: Editors Choice, dtype: int64"
      ]
     },
     "execution_count": 29,
     "metadata": {},
     "output_type": "execute_result"
    }
   ],
   "source": [
    "data[data['Editors Choice']==True].groupby('Developer Id')['Editors Choice'].count().sort_values(ascending=False).head()"
   ]
  },
  {
   "cell_type": "code",
   "execution_count": null,
   "id": "f76423e6",
   "metadata": {},
   "outputs": [],
   "source": []
  }
 ],
 "metadata": {
  "kernelspec": {
   "display_name": "Python 3 (ipykernel)",
   "language": "python",
   "name": "python3"
  },
  "language_info": {
   "codemirror_mode": {
    "name": "ipython",
    "version": 3
   },
   "file_extension": ".py",
   "mimetype": "text/x-python",
   "name": "python",
   "nbconvert_exporter": "python",
   "pygments_lexer": "ipython3",
   "version": "3.11.5"
  }
 },
 "nbformat": 4,
 "nbformat_minor": 5
}
